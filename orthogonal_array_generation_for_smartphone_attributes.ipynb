{
  "nbformat": 4,
  "nbformat_minor": 0,
  "metadata": {
    "colab": {
      "provenance": []
    },
    "kernelspec": {
      "name": "python3",
      "display_name": "Python 3"
    },
    "language_info": {
      "name": "python"
    }
  },
  "cells": [
    {
      "cell_type": "markdown",
      "source": [
        "## **Orthogonal Array Generation for the attributes of a Smartphone**"
      ],
      "metadata": {
        "id": "u04EWPY3AhSD"
      }
    },
    {
      "cell_type": "markdown",
      "source": [
        "#**Features of the Smartphone:**\n",
        "\n",
        "i. It has three battery lifes: Poor,Average,Good\n",
        "\n",
        "ii. It has three price points: Low, Medium, High"
      ],
      "metadata": {
        "id": "ckXiHlgwAn8M"
      }
    },
    {
      "cell_type": "markdown",
      "source": [
        "Battery Life and Phone Price, each with 3 levels, the maximum number of combinations is 9.\n",
        "\n",
        "We want to generate an orthogonal array that considers these factors, which will result in a **9x2 matrix (9 runs and 2 factors)**.\n"
      ],
      "metadata": {
        "id": "tYyZYh37BW8K"
      }
    },
    {
      "cell_type": "code",
      "source": [
        "import itertools\n",
        "import numpy as np\n",
        "\n",
        "# Define the levels for each feature\n",
        "battery_levels = [\"Poor\", \"Average\", \"Good\"]\n",
        "price_levels = [\"Low\", \"Medium\", \"High\"]\n",
        "\n",
        "def generate_orthogonal_array(n, k, s):\n",
        "    # Generate all possible combinations of s levels for k columns\n",
        "    all_combinations = list(itertools.product(range(s), repeat=k))\n",
        "\n",
        "    # Select the first n rows to create the orthogonal array\n",
        "    orthogonal_array = all_combinations[:n]\n",
        "\n",
        "    return np.array(orthogonal_array)\n",
        "\n",
        "def main():\n",
        "    n = 9  # Number of runs (rows)\n",
        "    k = 2  # Number of factors (columns)\n",
        "    s = 3  # Number of levels per factor\n",
        "\n",
        "    # Generate the orthogonal array\n",
        "    oa = generate_orthogonal_array(n, k, s)\n",
        "\n",
        "    print(f\"Orthogonal Array (9 x 2):\")\n",
        "    print(oa)\n",
        "    print(\"\\nTranslated Levels:\")\n",
        "\n",
        "    # Translate numeric levels to actual feature levels\n",
        "    for row in oa:\n",
        "        battery = battery_levels[row[0]]\n",
        "        price = price_levels[row[1]]\n",
        "        print(f\"Battery Life: {battery}, Phone Price: {price}\")\n",
        "\n",
        "if __name__ == \"__main__\":\n",
        "    main()\n"
      ],
      "metadata": {
        "colab": {
          "base_uri": "https://localhost:8080/"
        },
        "id": "7C4ltD88DBQX",
        "outputId": "14e92d60-8e07-4dca-db6d-859d5d4c7509"
      },
      "execution_count": 11,
      "outputs": [
        {
          "output_type": "stream",
          "name": "stdout",
          "text": [
            "Orthogonal Array (9 x 2):\n",
            "[[0 0]\n",
            " [0 1]\n",
            " [0 2]\n",
            " [1 0]\n",
            " [1 1]\n",
            " [1 2]\n",
            " [2 0]\n",
            " [2 1]\n",
            " [2 2]]\n",
            "\n",
            "Translated Levels:\n",
            "Battery Life: Poor, Phone Price: Low\n",
            "Battery Life: Poor, Phone Price: Medium\n",
            "Battery Life: Poor, Phone Price: High\n",
            "Battery Life: Average, Phone Price: Low\n",
            "Battery Life: Average, Phone Price: Medium\n",
            "Battery Life: Average, Phone Price: High\n",
            "Battery Life: Good, Phone Price: Low\n",
            "Battery Life: Good, Phone Price: Medium\n",
            "Battery Life: Good, Phone Price: High\n"
          ]
        }
      ]
    },
    {
      "cell_type": "markdown",
      "source": [
        "We want to generate an orthogonal array that considers these factors, which will result in a **6x2 matrix (6 runs and 2 factors)**.\n",
        "\n",
        "*Reducing the Orthogonal Array*\n"
      ],
      "metadata": {
        "id": "KfZe9sCvDX-B"
      }
    },
    {
      "cell_type": "code",
      "source": [
        "import itertools\n",
        "import numpy as np\n",
        "\n",
        "# Define the levels for each feature\n",
        "battery_levels = [\"Poor\", \"Average\", \"Good\"]\n",
        "price_levels = [\"Low\", \"Medium\", \"High\"]\n",
        "\n",
        "def generate_orthogonal_array(n, k, s):\n",
        "    # Generate all possible combinations of s levels for k columns\n",
        "    all_combinations = list(itertools.product(range(s), repeat=k))\n",
        "\n",
        "    # Select the first n rows to create the orthogonal array\n",
        "    orthogonal_array = all_combinations[:n]\n",
        "\n",
        "    return np.array(orthogonal_array)\n",
        "\n",
        "def main():\n",
        "    n = 6  # Number of runs (rows)\n",
        "    k = 2  # Number of factors (columns)\n",
        "    s = 3  # Number of levels per factor\n",
        "\n",
        "    # Generate the orthogonal array\n",
        "    oa = generate_orthogonal_array(n, k, s)\n",
        "\n",
        "    print(f\"Orthogonal Array (6 x 2):\")\n",
        "    print(oa)\n",
        "    print(\"\\nTranslated Levels:\")\n",
        "\n",
        "    # Translate numeric levels to actual feature levels\n",
        "    for row in oa:\n",
        "        battery = battery_levels[row[0]]\n",
        "        price = price_levels[row[1]]\n",
        "        print(f\"Battery Life: {battery}, Phone Price: {price}\")\n",
        "\n",
        "if __name__ == \"__main__\":\n",
        "    main()\n"
      ],
      "metadata": {
        "colab": {
          "base_uri": "https://localhost:8080/"
        },
        "id": "gaiOL3J9BVml",
        "outputId": "dea0cff7-bdf6-4882-c3a8-d71541597ecb"
      },
      "execution_count": 12,
      "outputs": [
        {
          "output_type": "stream",
          "name": "stdout",
          "text": [
            "Orthogonal Array (6 x 2):\n",
            "[[0 0]\n",
            " [0 1]\n",
            " [0 2]\n",
            " [1 0]\n",
            " [1 1]\n",
            " [1 2]]\n",
            "\n",
            "Translated Levels:\n",
            "Battery Life: Poor, Phone Price: Low\n",
            "Battery Life: Poor, Phone Price: Medium\n",
            "Battery Life: Poor, Phone Price: High\n",
            "Battery Life: Average, Phone Price: Low\n",
            "Battery Life: Average, Phone Price: Medium\n",
            "Battery Life: Average, Phone Price: High\n"
          ]
        }
      ]
    },
    {
      "cell_type": "markdown",
      "source": [
        "Orthogonal Array on adding **another smartphone:**"
      ],
      "metadata": {
        "id": "f1uiYLisBxhM"
      }
    },
    {
      "cell_type": "code",
      "execution_count": 13,
      "metadata": {
        "colab": {
          "base_uri": "https://localhost:8080/"
        },
        "id": "j4fwztaiAfHe",
        "outputId": "776e2615-f514-47e6-e30f-d701e67d8ed6"
      },
      "outputs": [
        {
          "output_type": "stream",
          "name": "stdout",
          "text": [
            "Orthogonal Array (6 x 4):\n",
            "[[0 0 0 0]\n",
            " [0 0 0 1]\n",
            " [0 0 0 2]\n",
            " [0 0 1 0]\n",
            " [0 0 1 1]\n",
            " [0 0 1 2]]\n",
            "\n",
            "Translated Levels:\n",
            "Phone 1: Battery Life=Poor, Phone Price=Low | Phone 2: Battery Life=Poor, Phone Price=Low\n",
            "Phone 1: Battery Life=Poor, Phone Price=Low | Phone 2: Battery Life=Poor, Phone Price=Medium\n",
            "Phone 1: Battery Life=Poor, Phone Price=Low | Phone 2: Battery Life=Poor, Phone Price=High\n",
            "Phone 1: Battery Life=Poor, Phone Price=Low | Phone 2: Battery Life=Average, Phone Price=Low\n",
            "Phone 1: Battery Life=Poor, Phone Price=Low | Phone 2: Battery Life=Average, Phone Price=Medium\n",
            "Phone 1: Battery Life=Poor, Phone Price=Low | Phone 2: Battery Life=Average, Phone Price=High\n"
          ]
        }
      ],
      "source": [
        "import itertools\n",
        "import numpy as np\n",
        "\n",
        "# Define the levels for each feature\n",
        "battery_levels = [\"Poor\", \"Average\", \"Good\"]\n",
        "price_levels = [\"Low\", \"Medium\", \"High\"]\n",
        "\n",
        "def generate_orthogonal_array(n, k, s):\n",
        "    # Generate all possible combinations of s levels for k columns\n",
        "    all_combinations = list(itertools.product(range(s), repeat=k))\n",
        "\n",
        "    # Select the first n rows to create the orthogonal array\n",
        "    orthogonal_array = all_combinations[:n]\n",
        "\n",
        "    return np.array(orthogonal_array)\n",
        "\n",
        "def main():\n",
        "    n = 6  # Number of runs (rows)\n",
        "    k = 4  # Number of factors (columns), since we have 2 phones each with 2 factors (Battery Life and Phone Price)\n",
        "    s = 3  # Number of levels per factor\n",
        "\n",
        "    # Generate the orthogonal array\n",
        "    oa = generate_orthogonal_array(n, k, s)\n",
        "\n",
        "    print(f\"Orthogonal Array (6 x 4):\")\n",
        "    print(oa)\n",
        "    print(\"\\nTranslated Levels:\")\n",
        "\n",
        "    # Translate numeric levels to actual feature levels for each phone\n",
        "    for row in oa:\n",
        "        battery1 = battery_levels[row[0]]\n",
        "        price1 = price_levels[row[1]]\n",
        "        battery2 = battery_levels[row[2]]\n",
        "        price2 = price_levels[row[3]]\n",
        "        print(f\"Phone 1: Battery Life={battery1}, Phone Price={price1} | Phone 2: Battery Life={battery2}, Phone Price={price2}\")\n",
        "\n",
        "if __name__ == \"__main__\":\n",
        "    main()\n"
      ]
    },
    {
      "cell_type": "markdown",
      "source": [
        "*Author: Suhanee Hingorani*"
      ],
      "metadata": {
        "id": "ys4aHaoJFiz7"
      }
    }
  ]
}