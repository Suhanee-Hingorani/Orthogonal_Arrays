{
  "nbformat": 4,
  "nbformat_minor": 0,
  "metadata": {
    "colab": {
      "provenance": []
    },
    "kernelspec": {
      "name": "python3",
      "display_name": "Python 3"
    },
    "language_info": {
      "name": "python"
    }
  },
  "cells": [
    {
      "cell_type": "markdown",
      "source": [
        "## **Generating Orthogonal Arrays**"
      ],
      "metadata": {
        "id": "TjdJET6tvShJ"
      }
    },
    {
      "cell_type": "code",
      "execution_count": 16,
      "metadata": {
        "colab": {
          "base_uri": "https://localhost:8080/"
        },
        "id": "V4uFmevzofjD",
        "outputId": "6109a509-dd81-4c27-ef16-d3aa07002e5f"
      },
      "outputs": [
        {
          "output_type": "stream",
          "name": "stdout",
          "text": [
            "Orthogonal Array (6 x 2):\n",
            "[[0 0]\n",
            " [0 1]\n",
            " [0 2]\n",
            " [1 0]\n",
            " [1 1]\n",
            " [1 2]]\n",
            "\n",
            "\n",
            "Orthogonal Array (6 x 3):\n",
            "[[0 0 0]\n",
            " [0 0 1]\n",
            " [0 0 2]\n",
            " [0 1 0]\n",
            " [0 1 1]\n",
            " [0 1 2]]\n",
            "\n",
            "\n",
            "Orthogonal Array (6 x 4):\n",
            "[[0 0 0 0]\n",
            " [0 0 0 1]\n",
            " [0 0 0 2]\n",
            " [0 0 1 0]\n",
            " [0 0 1 1]\n",
            " [0 0 1 2]]\n",
            "\n",
            "\n",
            "Orthogonal Array (6 x 5):\n",
            "[[0 0 0 0 0]\n",
            " [0 0 0 0 1]\n",
            " [0 0 0 0 2]\n",
            " [0 0 0 1 0]\n",
            " [0 0 0 1 1]\n",
            " [0 0 0 1 2]]\n",
            "\n",
            "\n"
          ]
        }
      ],
      "source": [
        "import itertools\n",
        "import numpy as np\n",
        "\n",
        "def generate_orthogonal_array(n, k, s):\n",
        "    # Generate all possible combinations of s levels for k columns\n",
        "    all_combinations = list(itertools.product(range(s), repeat=k))\n",
        "\n",
        "    # Select the first n rows to create the orthogonal array\n",
        "    orthogonal_array = all_combinations[:n]\n",
        "\n",
        "    return np.array(orthogonal_array)\n",
        "\n",
        "def main():\n",
        "    n = 6  # Number of runs (rows)\n",
        "    s = 3  # Number of levels per factor\n",
        "\n",
        "    for k in range(2, n):  # Number of factors (columns) from 2 to n\n",
        "        oa = generate_orthogonal_array(n, k, s)\n",
        "        print(f\"Orthogonal Array (6 x {k}):\")\n",
        "        print(oa)\n",
        "        print(\"\\n\")\n",
        "\n",
        "if __name__ == \"__main__\":\n",
        "    main()\n"
      ]
    },
    {
      "cell_type": "markdown",
      "source": [
        "## **Generating Orthogonal Arrays without the itertools library**"
      ],
      "metadata": {
        "id": "TJ-TMkJzv-mb"
      }
    },
    {
      "cell_type": "code",
      "source": [
        "import numpy as np\n",
        "\n",
        "def generate_orthogonal_array(n, k, s):\n",
        "    # Create an empty array to hold the orthogonal array\n",
        "    orthogonal_array = np.zeros((n, k), dtype=int)\n",
        "\n",
        "    # Fill the orthogonal array based on specific patterns to ensure orthogonality\n",
        "    for i in range(k):\n",
        "        for j in range(n):\n",
        "            orthogonal_array[j][i] = (j + (i * j) // s) % s\n",
        "\n",
        "    return orthogonal_array\n",
        "\n",
        "def main():\n",
        "    n = 6  # Number of runs (rows)\n",
        "    s = 3  # Number of levels per factor\n",
        "\n",
        "    # Iterate over a predefined range of factors (columns)\n",
        "    for k in range(2, 6):  # Number of factors (columns) from 2 to 6\n",
        "        oa = generate_orthogonal_array(n, k, s)\n",
        "        print(f\"Orthogonal Array (6 x {k}):\")\n",
        "        print(oa)\n",
        "        print(\"\\n\")\n",
        "\n",
        "if __name__ == \"__main__\":\n",
        "    main()\n"
      ],
      "metadata": {
        "colab": {
          "base_uri": "https://localhost:8080/"
        },
        "id": "K633PH1Cogxj",
        "outputId": "f473783c-b9b6-4254-d7fd-5cf675c6c424"
      },
      "execution_count": 17,
      "outputs": [
        {
          "output_type": "stream",
          "name": "stdout",
          "text": [
            "Orthogonal Array (6 x 2):\n",
            "[[0 0]\n",
            " [1 1]\n",
            " [2 2]\n",
            " [0 1]\n",
            " [1 2]\n",
            " [2 0]]\n",
            "\n",
            "\n",
            "Orthogonal Array (6 x 3):\n",
            "[[0 0 0]\n",
            " [1 1 1]\n",
            " [2 2 0]\n",
            " [0 1 2]\n",
            " [1 2 0]\n",
            " [2 0 2]]\n",
            "\n",
            "\n",
            "Orthogonal Array (6 x 4):\n",
            "[[0 0 0 0]\n",
            " [1 1 1 2]\n",
            " [2 2 0 1]\n",
            " [0 1 2 0]\n",
            " [1 2 0 2]\n",
            " [2 0 2 1]]\n",
            "\n",
            "\n",
            "Orthogonal Array (6 x 5):\n",
            "[[0 0 0 0 0]\n",
            " [1 1 1 2 2]\n",
            " [2 2 0 1 1]\n",
            " [0 1 2 0 1]\n",
            " [1 2 0 2 0]\n",
            " [2 0 2 1 2]]\n",
            "\n",
            "\n"
          ]
        }
      ]
    },
    {
      "cell_type": "markdown",
      "source": [
        "*Author: Suhanee Hingorani*"
      ],
      "metadata": {
        "id": "6ELa0JJlHIN2"
      }
    },
    {
      "cell_type": "code",
      "source": [],
      "metadata": {
        "id": "pM509OitHL8U"
      },
      "execution_count": 17,
      "outputs": []
    }
  ]
}